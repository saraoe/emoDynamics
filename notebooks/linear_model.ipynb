{
 "cells": [
  {
   "cell_type": "markdown",
   "metadata": {},
   "source": [
    "# Linear model between Novelty and Transcience"
   ]
  },
  {
   "cell_type": "code",
   "execution_count": 42,
   "metadata": {},
   "outputs": [],
   "source": [
    "import numpy as np\n",
    "from sklearn.preprocessing import StandardScaler\n",
    "from sklearn.linear_model import LinearRegression\n",
    "import pandas as pd\n",
    "import os\n",
    "\n",
    "import matplotlib.pyplot as plt"
   ]
  },
  {
   "cell_type": "code",
   "execution_count": 3,
   "metadata": {},
   "outputs": [
    {
     "data": {
      "text/html": [
       "<div>\n",
       "<style scoped>\n",
       "    .dataframe tbody tr th:only-of-type {\n",
       "        vertical-align: middle;\n",
       "    }\n",
       "\n",
       "    .dataframe tbody tr th {\n",
       "        vertical-align: top;\n",
       "    }\n",
       "\n",
       "    .dataframe thead th {\n",
       "        text-align: right;\n",
       "    }\n",
       "</style>\n",
       "<table border=\"1\" class=\"dataframe\">\n",
       "  <thead>\n",
       "    <tr style=\"text-align: right;\">\n",
       "      <th></th>\n",
       "      <th>date</th>\n",
       "      <th>emo_prob</th>\n",
       "      <th>novelty</th>\n",
       "      <th>transience</th>\n",
       "      <th>resonance</th>\n",
       "      <th>nsigma</th>\n",
       "      <th>tsigma</th>\n",
       "      <th>rsigma</th>\n",
       "    </tr>\n",
       "  </thead>\n",
       "  <tbody>\n",
       "    <tr>\n",
       "      <th>0</th>\n",
       "      <td>2020-02-01</td>\n",
       "      <td>[0.21807732877462027, 0.08096580947877421, 0.2...</td>\n",
       "      <td>0.000000</td>\n",
       "      <td>0.000368</td>\n",
       "      <td>0.000000</td>\n",
       "      <td>0.000000</td>\n",
       "      <td>0.000247</td>\n",
       "      <td>0.000000</td>\n",
       "    </tr>\n",
       "    <tr>\n",
       "      <th>1</th>\n",
       "      <td>2020-02-02</td>\n",
       "      <td>[0.221372968212045, 0.07902854511969454, 0.238...</td>\n",
       "      <td>0.000000</td>\n",
       "      <td>0.000609</td>\n",
       "      <td>0.000000</td>\n",
       "      <td>0.000000</td>\n",
       "      <td>0.000100</td>\n",
       "      <td>0.000000</td>\n",
       "    </tr>\n",
       "    <tr>\n",
       "      <th>2</th>\n",
       "      <td>2020-02-03</td>\n",
       "      <td>[0.20227612855287164, 0.07787824633103294, 0.2...</td>\n",
       "      <td>0.000000</td>\n",
       "      <td>0.000183</td>\n",
       "      <td>0.000000</td>\n",
       "      <td>0.000000</td>\n",
       "      <td>0.000035</td>\n",
       "      <td>0.000000</td>\n",
       "    </tr>\n",
       "    <tr>\n",
       "      <th>3</th>\n",
       "      <td>2020-02-04</td>\n",
       "      <td>[0.19758550062626593, 0.07659216827524239, 0.2...</td>\n",
       "      <td>0.000509</td>\n",
       "      <td>0.000118</td>\n",
       "      <td>0.000391</td>\n",
       "      <td>0.000256</td>\n",
       "      <td>0.000046</td>\n",
       "      <td>0.000151</td>\n",
       "    </tr>\n",
       "    <tr>\n",
       "      <th>4</th>\n",
       "      <td>2020-02-05</td>\n",
       "      <td>[0.20724585495965173, 0.07269186130333344, 0.2...</td>\n",
       "      <td>0.000311</td>\n",
       "      <td>0.000193</td>\n",
       "      <td>0.000119</td>\n",
       "      <td>0.000166</td>\n",
       "      <td>0.000224</td>\n",
       "      <td>0.000195</td>\n",
       "    </tr>\n",
       "  </tbody>\n",
       "</table>\n",
       "</div>"
      ],
      "text/plain": [
       "         date                                           emo_prob   novelty  \\\n",
       "0  2020-02-01  [0.21807732877462027, 0.08096580947877421, 0.2...  0.000000   \n",
       "1  2020-02-02  [0.221372968212045, 0.07902854511969454, 0.238...  0.000000   \n",
       "2  2020-02-03  [0.20227612855287164, 0.07787824633103294, 0.2...  0.000000   \n",
       "3  2020-02-04  [0.19758550062626593, 0.07659216827524239, 0.2...  0.000509   \n",
       "4  2020-02-05  [0.20724585495965173, 0.07269186130333344, 0.2...  0.000311   \n",
       "\n",
       "   transience  resonance    nsigma    tsigma    rsigma  \n",
       "0    0.000368   0.000000  0.000000  0.000247  0.000000  \n",
       "1    0.000609   0.000000  0.000000  0.000100  0.000000  \n",
       "2    0.000183   0.000000  0.000000  0.000035  0.000000  \n",
       "3    0.000118   0.000391  0.000256  0.000046  0.000151  \n",
       "4    0.000193   0.000119  0.000166  0.000224  0.000195  "
      ]
     },
     "execution_count": 3,
     "metadata": {},
     "output_type": "execute_result"
    }
   ],
   "source": [
    "filename = os.path.join(\"..\",\"idmdl\", \"tweets_emotion_date.csv\")\n",
    "\n",
    "df = pd.read_csv(filename)\n",
    "\n",
    "df.head()"
   ]
  },
  {
   "cell_type": "code",
   "execution_count": 5,
   "metadata": {},
   "outputs": [],
   "source": [
    "X = df['novelty'].tolist()\n",
    "X = np.array(X).reshape(-1, 1)\n",
    "X = StandardScaler().fit_transform(X)\n",
    "\n",
    "y = df['resonance'].tolist()\n",
    "y = np.array(y).reshape(-1, 1)\n",
    "y = StandardScaler().fit_transform(y)\n",
    "\n",
    "lm = LinearRegression()\n",
    "lm.fit(X, y)\n",
    "\n",
    "# beta\n",
    "lm.score(X, y)\n",
    "\n",
    "y_pred = lm.predict(X)"
   ]
  },
  {
   "cell_type": "code",
   "execution_count": 9,
   "metadata": {},
   "outputs": [
    {
     "data": {
      "text/plain": [
       "0.36406971639118313"
      ]
     },
     "execution_count": 9,
     "metadata": {},
     "output_type": "execute_result"
    }
   ],
   "source": [
    "lm.score(X, y)"
   ]
  },
  {
   "cell_type": "code",
   "execution_count": 11,
   "metadata": {},
   "outputs": [
    {
     "data": {
      "image/png": "[encoded data removed]",
      "text/plain": [
       "<Figure size 432x288 with 1 Axes>"
      ]
     },
     "metadata": {
      "needs_background": "light"
     },
     "output_type": "display_data"
    }
   ],
   "source": [
    "# plot\n",
    "plt.scatter(X, y, color='black')\n",
    "plt.plot(X, y_pred, color='blue', linewidth=3)\n",
    "plt.xlabel('z(Novelty)')\n",
    "plt.ylabel('z(Resonance)')\n",
    "plt.savefig('../fig/linmdl_novelty_resonance.png')\n",
    "plt.show()"
   ]
  },
  {
   "cell_type": "markdown",
   "metadata": {},
   "source": [
    "# Linear model with each emotion predicting novelty/resonance signals"
   ]
  },
  {
   "cell_type": "code",
   "execution_count": 25,
   "metadata": {},
   "outputs": [],
   "source": [
    "import pandas as pd\n",
    "import re"
   ]
  },
  {
   "cell_type": "code",
   "execution_count": 28,
   "metadata": {},
   "outputs": [],
   "source": [
    "def get_emotion_distribution(emo: str, n: int=8):\n",
    "    '''\n",
    "    For transforming the BERT emotion distribution from a str to a list of floats\n",
    "    If there is no emotion distribution, it returns NaN\n",
    "    '''\n",
    "    if not isinstance(emo, str): # if emo == NaN\n",
    "        return emo\n",
    "    emo_list = re.split(r',\\s+', emo[1:-1])[:n]\n",
    "    emo_list = list(map(lambda x: float(x), emo_list))\n",
    "    return emo_list"
   ]
  },
  {
   "cell_type": "code",
   "execution_count": 3,
   "metadata": {},
   "outputs": [],
   "source": [
    "file_name = os.path.join(\"..\", \"idmdl\", \"tweets_emotion_date.csv\")\n",
    "df = pd.read_csv(file_name)"
   ]
  },
  {
   "cell_type": "code",
   "execution_count": 4,
   "metadata": {},
   "outputs": [
    {
     "data": {
      "text/html": [
       "<div>\n",
       "<style scoped>\n",
       "    .dataframe tbody tr th:only-of-type {\n",
       "        vertical-align: middle;\n",
       "    }\n",
       "\n",
       "    .dataframe tbody tr th {\n",
       "        vertical-align: top;\n",
       "    }\n",
       "\n",
       "    .dataframe thead th {\n",
       "        text-align: right;\n",
       "    }\n",
       "</style>\n",
       "<table border=\"1\" class=\"dataframe\">\n",
       "  <thead>\n",
       "    <tr style=\"text-align: right;\">\n",
       "      <th></th>\n",
       "      <th>date</th>\n",
       "      <th>emo_prob</th>\n",
       "      <th>novelty</th>\n",
       "      <th>transience</th>\n",
       "      <th>resonance</th>\n",
       "      <th>nsigma</th>\n",
       "      <th>tsigma</th>\n",
       "      <th>rsigma</th>\n",
       "    </tr>\n",
       "  </thead>\n",
       "  <tbody>\n",
       "    <tr>\n",
       "      <th>0</th>\n",
       "      <td>2020-02-01</td>\n",
       "      <td>[0.21807732877462027, 0.08096580947877421, 0.2...</td>\n",
       "      <td>0.000000</td>\n",
       "      <td>0.000368</td>\n",
       "      <td>0.000000</td>\n",
       "      <td>0.000000</td>\n",
       "      <td>0.000247</td>\n",
       "      <td>0.000000</td>\n",
       "    </tr>\n",
       "    <tr>\n",
       "      <th>1</th>\n",
       "      <td>2020-02-02</td>\n",
       "      <td>[0.221372968212045, 0.07902854511969454, 0.238...</td>\n",
       "      <td>0.000000</td>\n",
       "      <td>0.000609</td>\n",
       "      <td>0.000000</td>\n",
       "      <td>0.000000</td>\n",
       "      <td>0.000100</td>\n",
       "      <td>0.000000</td>\n",
       "    </tr>\n",
       "    <tr>\n",
       "      <th>2</th>\n",
       "      <td>2020-02-03</td>\n",
       "      <td>[0.20227612855287164, 0.07787824633103294, 0.2...</td>\n",
       "      <td>0.000000</td>\n",
       "      <td>0.000183</td>\n",
       "      <td>0.000000</td>\n",
       "      <td>0.000000</td>\n",
       "      <td>0.000035</td>\n",
       "      <td>0.000000</td>\n",
       "    </tr>\n",
       "    <tr>\n",
       "      <th>3</th>\n",
       "      <td>2020-02-04</td>\n",
       "      <td>[0.19758550062626593, 0.07659216827524239, 0.2...</td>\n",
       "      <td>0.000509</td>\n",
       "      <td>0.000118</td>\n",
       "      <td>0.000391</td>\n",
       "      <td>0.000256</td>\n",
       "      <td>0.000046</td>\n",
       "      <td>0.000151</td>\n",
       "    </tr>\n",
       "    <tr>\n",
       "      <th>4</th>\n",
       "      <td>2020-02-05</td>\n",
       "      <td>[0.20724585495965173, 0.07269186130333344, 0.2...</td>\n",
       "      <td>0.000311</td>\n",
       "      <td>0.000193</td>\n",
       "      <td>0.000119</td>\n",
       "      <td>0.000166</td>\n",
       "      <td>0.000224</td>\n",
       "      <td>0.000195</td>\n",
       "    </tr>\n",
       "  </tbody>\n",
       "</table>\n",
       "</div>"
      ],
      "text/plain": [
       "         date                                           emo_prob   novelty  \\\n",
       "0  2020-02-01  [0.21807732877462027, 0.08096580947877421, 0.2...  0.000000   \n",
       "1  2020-02-02  [0.221372968212045, 0.07902854511969454, 0.238...  0.000000   \n",
       "2  2020-02-03  [0.20227612855287164, 0.07787824633103294, 0.2...  0.000000   \n",
       "3  2020-02-04  [0.19758550062626593, 0.07659216827524239, 0.2...  0.000509   \n",
       "4  2020-02-05  [0.20724585495965173, 0.07269186130333344, 0.2...  0.000311   \n",
       "\n",
       "   transience  resonance    nsigma    tsigma    rsigma  \n",
       "0    0.000368   0.000000  0.000000  0.000247  0.000000  \n",
       "1    0.000609   0.000000  0.000000  0.000100  0.000000  \n",
       "2    0.000183   0.000000  0.000000  0.000035  0.000000  \n",
       "3    0.000118   0.000391  0.000256  0.000046  0.000151  \n",
       "4    0.000193   0.000119  0.000166  0.000224  0.000195  "
      ]
     },
     "execution_count": 4,
     "metadata": {},
     "output_type": "execute_result"
    }
   ],
   "source": [
    "df.head()"
   ]
  },
  {
   "cell_type": "code",
   "execution_count": 5,
   "metadata": {},
   "outputs": [],
   "source": [
    "labels = [\n",
    "        \"Glæde/Sindsro\",\n",
    "        \"Tillid/Accept\",\n",
    "        \"Forventning/Interrese\",\n",
    "        \"Overasket/Målløs\",\n",
    "        \"Vrede/Irritation\",\n",
    "        \"Foragt/Modvilje\",\n",
    "        \"Sorg/trist\",\n",
    "        \"Frygt/Bekymret\",\n",
    "    ]"
   ]
  },
  {
   "cell_type": "code",
   "execution_count": 39,
   "metadata": {},
   "outputs": [],
   "source": [
    "emo_lists = list(map(get_emotion_distribution,list(df[\"emo_prob\"])))"
   ]
  },
  {
   "cell_type": "code",
   "execution_count": 40,
   "metadata": {},
   "outputs": [
    {
     "name": "stdout",
     "output_type": "stream",
     "text": [
      "0\n",
      "1\n",
      "2\n",
      "3\n",
      "4\n",
      "5\n",
      "6\n",
      "7\n"
     ]
    }
   ],
   "source": [
    "for i, label in enumerate(labels):\n",
    "    df[label] = [distribution[i] for distribution in emo_lists]"
   ]
  },
  {
   "cell_type": "code",
   "execution_count": 41,
   "metadata": {},
   "outputs": [
    {
     "data": {
      "text/html": [
       "<div>\n",
       "<style scoped>\n",
       "    .dataframe tbody tr th:only-of-type {\n",
       "        vertical-align: middle;\n",
       "    }\n",
       "\n",
       "    .dataframe tbody tr th {\n",
       "        vertical-align: top;\n",
       "    }\n",
       "\n",
       "    .dataframe thead th {\n",
       "        text-align: right;\n",
       "    }\n",
       "</style>\n",
       "<table border=\"1\" class=\"dataframe\">\n",
       "  <thead>\n",
       "    <tr style=\"text-align: right;\">\n",
       "      <th></th>\n",
       "      <th>date</th>\n",
       "      <th>emo_prob</th>\n",
       "      <th>novelty</th>\n",
       "      <th>transience</th>\n",
       "      <th>resonance</th>\n",
       "      <th>nsigma</th>\n",
       "      <th>tsigma</th>\n",
       "      <th>rsigma</th>\n",
       "      <th>Glæde/Sindsro</th>\n",
       "      <th>Tillid/Accept</th>\n",
       "      <th>Forventning/Interrese</th>\n",
       "      <th>Overasket/Målløs</th>\n",
       "      <th>Vrede/Irritation</th>\n",
       "      <th>Foragt/Modvilje</th>\n",
       "      <th>Sorg/trist</th>\n",
       "      <th>Frygt/Bekymret</th>\n",
       "      <th>test</th>\n",
       "    </tr>\n",
       "  </thead>\n",
       "  <tbody>\n",
       "    <tr>\n",
       "      <th>0</th>\n",
       "      <td>2020-02-01</td>\n",
       "      <td>[0.21807732877462027, 0.08096580947877421, 0.2...</td>\n",
       "      <td>0.000000</td>\n",
       "      <td>0.000368</td>\n",
       "      <td>0.000000</td>\n",
       "      <td>0.000000</td>\n",
       "      <td>0.000247</td>\n",
       "      <td>0.000000</td>\n",
       "      <td>0.218077</td>\n",
       "      <td>0.080966</td>\n",
       "      <td>0.238088</td>\n",
       "      <td>0.190499</td>\n",
       "      <td>0.056692</td>\n",
       "      <td>0.162215</td>\n",
       "      <td>0.025408</td>\n",
       "      <td>0.027884</td>\n",
       "      <td>0</td>\n",
       "    </tr>\n",
       "    <tr>\n",
       "      <th>1</th>\n",
       "      <td>2020-02-02</td>\n",
       "      <td>[0.221372968212045, 0.07902854511969454, 0.238...</td>\n",
       "      <td>0.000000</td>\n",
       "      <td>0.000609</td>\n",
       "      <td>0.000000</td>\n",
       "      <td>0.000000</td>\n",
       "      <td>0.000100</td>\n",
       "      <td>0.000000</td>\n",
       "      <td>0.221373</td>\n",
       "      <td>0.079029</td>\n",
       "      <td>0.238528</td>\n",
       "      <td>0.186883</td>\n",
       "      <td>0.057209</td>\n",
       "      <td>0.163686</td>\n",
       "      <td>0.026361</td>\n",
       "      <td>0.026764</td>\n",
       "      <td>1</td>\n",
       "    </tr>\n",
       "    <tr>\n",
       "      <th>2</th>\n",
       "      <td>2020-02-03</td>\n",
       "      <td>[0.20227612855287164, 0.07787824633103294, 0.2...</td>\n",
       "      <td>0.000000</td>\n",
       "      <td>0.000183</td>\n",
       "      <td>0.000000</td>\n",
       "      <td>0.000000</td>\n",
       "      <td>0.000035</td>\n",
       "      <td>0.000000</td>\n",
       "      <td>0.202276</td>\n",
       "      <td>0.077878</td>\n",
       "      <td>0.252303</td>\n",
       "      <td>0.185128</td>\n",
       "      <td>0.054775</td>\n",
       "      <td>0.169087</td>\n",
       "      <td>0.025129</td>\n",
       "      <td>0.033257</td>\n",
       "      <td>2</td>\n",
       "    </tr>\n",
       "    <tr>\n",
       "      <th>3</th>\n",
       "      <td>2020-02-04</td>\n",
       "      <td>[0.19758550062626593, 0.07659216827524239, 0.2...</td>\n",
       "      <td>0.000509</td>\n",
       "      <td>0.000118</td>\n",
       "      <td>0.000391</td>\n",
       "      <td>0.000256</td>\n",
       "      <td>0.000046</td>\n",
       "      <td>0.000151</td>\n",
       "      <td>0.197586</td>\n",
       "      <td>0.076592</td>\n",
       "      <td>0.259505</td>\n",
       "      <td>0.192543</td>\n",
       "      <td>0.053269</td>\n",
       "      <td>0.167488</td>\n",
       "      <td>0.022751</td>\n",
       "      <td>0.030103</td>\n",
       "      <td>3</td>\n",
       "    </tr>\n",
       "    <tr>\n",
       "      <th>4</th>\n",
       "      <td>2020-02-05</td>\n",
       "      <td>[0.20724585495965173, 0.07269186130333344, 0.2...</td>\n",
       "      <td>0.000311</td>\n",
       "      <td>0.000193</td>\n",
       "      <td>0.000119</td>\n",
       "      <td>0.000166</td>\n",
       "      <td>0.000224</td>\n",
       "      <td>0.000195</td>\n",
       "      <td>0.207246</td>\n",
       "      <td>0.072692</td>\n",
       "      <td>0.249444</td>\n",
       "      <td>0.193463</td>\n",
       "      <td>0.052592</td>\n",
       "      <td>0.172610</td>\n",
       "      <td>0.021700</td>\n",
       "      <td>0.030093</td>\n",
       "      <td>4</td>\n",
       "    </tr>\n",
       "  </tbody>\n",
       "</table>\n",
       "</div>"
      ],
      "text/plain": [
       "         date                                           emo_prob   novelty  \\\n",
       "0  2020-02-01  [0.21807732877462027, 0.08096580947877421, 0.2...  0.000000   \n",
       "1  2020-02-02  [0.221372968212045, 0.07902854511969454, 0.238...  0.000000   \n",
       "2  2020-02-03  [0.20227612855287164, 0.07787824633103294, 0.2...  0.000000   \n",
       "3  2020-02-04  [0.19758550062626593, 0.07659216827524239, 0.2...  0.000509   \n",
       "4  2020-02-05  [0.20724585495965173, 0.07269186130333344, 0.2...  0.000311   \n",
       "\n",
       "   transience  resonance    nsigma    tsigma    rsigma  Glæde/Sindsro  \\\n",
       "0    0.000368   0.000000  0.000000  0.000247  0.000000       0.218077   \n",
       "1    0.000609   0.000000  0.000000  0.000100  0.000000       0.221373   \n",
       "2    0.000183   0.000000  0.000000  0.000035  0.000000       0.202276   \n",
       "3    0.000118   0.000391  0.000256  0.000046  0.000151       0.197586   \n",
       "4    0.000193   0.000119  0.000166  0.000224  0.000195       0.207246   \n",
       "\n",
       "   Tillid/Accept  Forventning/Interrese  Overasket/Målløs  Vrede/Irritation  \\\n",
       "0       0.080966               0.238088          0.190499          0.056692   \n",
       "1       0.079029               0.238528          0.186883          0.057209   \n",
       "2       0.077878               0.252303          0.185128          0.054775   \n",
       "3       0.076592               0.259505          0.192543          0.053269   \n",
       "4       0.072692               0.249444          0.193463          0.052592   \n",
       "\n",
       "   Foragt/Modvilje  Sorg/trist  Frygt/Bekymret  test  \n",
       "0         0.162215    0.025408        0.027884     0  \n",
       "1         0.163686    0.026361        0.026764     1  \n",
       "2         0.169087    0.025129        0.033257     2  \n",
       "3         0.167488    0.022751        0.030103     3  \n",
       "4         0.172610    0.021700        0.030093     4  "
      ]
     },
     "execution_count": 41,
     "metadata": {},
     "output_type": "execute_result"
    }
   ],
   "source": [
    "df.head()"
   ]
  },
  {
   "cell_type": "code",
   "execution_count": 51,
   "metadata": {},
   "outputs": [],
   "source": [
    "subset = df[df[\"date\"] > \"2020-12-01\"]\n",
    "subset = subset[subset[\"date\"] < \"2021-01-03\"]"
   ]
  },
  {
   "cell_type": "code",
   "execution_count": 53,
   "metadata": {},
   "outputs": [
    {
     "data": {
      "image/png": "[encoded data removed]",
      "text/plain": [
       "<Figure size 432x288 with 1 Axes>"
      ]
     },
     "metadata": {
      "needs_background": "light"
     },
     "output_type": "display_data"
    },
    {
     "data": {
      "image/png": "[encoded data removed]",
      "text/plain": [
       "<Figure size 432x288 with 1 Axes>"
      ]
     },
     "metadata": {
      "needs_background": "light"
     },
     "output_type": "display_data"
    },
    {
     "data": {
      "image/png": "[encoded data removed]",
      "text/plain": [
       "<Figure size 432x288 with 1 Axes>"
      ]
     },
     "metadata": {
      "needs_background": "light"
     },
     "output_type": "display_data"
    },
    {
     "data": {
      "image/png": "[encoded data removed]",
      "text/plain": [
       "<Figure size 432x288 with 1 Axes>"
      ]
     },
     "metadata": {
      "needs_background": "light"
     },
     "output_type": "display_data"
    },
    {
     "data": {
      "image/png": "[encoded data removed]",
      "text/plain": [
       "<Figure size 432x288 with 1 Axes>"
      ]
     },
     "metadata": {
      "needs_background": "light"
     },
     "output_type": "display_data"
    },
    {
     "data": {
      "image/png": "[encoded data removed]",
      "text/plain": [
       "<Figure size 432x288 with 1 Axes>"
      ]
     },
     "metadata": {
      "needs_background": "light"
     },
     "output_type": "display_data"
    },
    {
     "data": {
      "image/png": "[encoded data removed]",
      "text/plain": [
       "<Figure size 432x288 with 1 Axes>"
      ]
     },
     "metadata": {
      "needs_background": "light"
     },
     "output_type": "display_data"
    },
    {
     "data": {
      "image/png": "[encoded data removed]",
      "text/plain": [
       "<Figure size 432x288 with 1 Axes>"
      ]
     },
     "metadata": {
      "needs_background": "light"
     },
     "output_type": "display_data"
    }
   ],
   "source": [
    "for label in labels:\n",
    "    X = subset[label].tolist()\n",
    "    X = np.array(X).reshape(-1, 1)\n",
    "    # X = StandardScaler().fit_transform(X)\n",
    "\n",
    "    y = subset['novelty'].tolist()\n",
    "    y = np.array(y).reshape(-1, 1)\n",
    "    # y = StandardScaler().fit_transform(y)\n",
    "\n",
    "    lm = LinearRegression()\n",
    "    lm.fit(X, y)\n",
    "\n",
    "    # beta\n",
    "    lm.score(X, y)\n",
    "\n",
    "    y_pred = lm.predict(X)\n",
    "\n",
    "    plt.scatter(X, y, color='black')\n",
    "    plt.plot(X, y_pred, color='blue', linewidth=3)\n",
    "    plt.xlabel(f'{label}')\n",
    "    plt.ylabel('z(Resonance)')\n",
    "    plt.show()"
   ]
  }
 ],
 "metadata": {
  "interpreter": {
   "hash": "7db8ed50b44af1f1c7779c46eba09af0e8713f149cf6e04925fd6cf630a25ca6"
  },
  "kernelspec": {
   "display_name": "Python 3.6.9 64-bit ('info': virtualenv)",
   "language": "python",
   "name": "python3"
  },
  "language_info": {
   "codemirror_mode": {
    "name": "ipython",
    "version": 3
   },
   "file_extension": ".py",
   "mimetype": "text/x-python",
   "name": "python",
   "nbconvert_exporter": "python",
   "pygments_lexer": "ipython3",
   "version": "3.6.9"
  },
  "orig_nbformat": 4
 },
 "nbformat": 4,
 "nbformat_minor": 2
}
